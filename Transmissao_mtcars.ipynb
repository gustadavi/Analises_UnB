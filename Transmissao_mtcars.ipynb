{
  "nbformat": 4,
  "nbformat_minor": 0,
  "metadata": {
    "colab": {
      "provenance": []
    },
    "kernelspec": {
      "name": "python3",
      "display_name": "Python 3"
    },
    "language_info": {
      "name": "python"
    }
  },
  "cells": [
    {
      "cell_type": "code",
      "source": [
        "import random\n",
        "import pandas as pd\n",
        "import seaborn as sns\n",
        "import numpy as np"
      ],
      "metadata": {
        "id": "ST0qkgT0F5Qi"
      },
      "execution_count": 1,
      "outputs": []
    },
    {
      "cell_type": "code",
      "source": [
        "mtcars = pd.read_csv(\"https://gist.githubusercontent.com/seankross/a412dfbd88b3db70b74b/raw/5f23f993cd87c283ce766e7ac6b329ee7cc2e1d1/mtcars.csv\")"
      ],
      "metadata": {
        "id": "DdDNl4i-F-dY"
      },
      "execution_count": 2,
      "outputs": []
    },
    {
      "cell_type": "code",
      "source": [
        "# am0 representa os carros automáticos e am1 os carros manuais\n",
        "am0 = mtcars[\"am\"] == 0\n",
        "am1 = mtcars[\"am\"] == 1\n",
        "\n",
        "v1 =mtcars[\"mpg\"].loc[am0].mean()\n",
        "v2 = mtcars[\"mpg\"].loc[am1].mean()\n",
        "\n",
        "print(mtcars[\"mpg\"].groupby(by = mtcars[\"am\"]).mean())\n",
        "abs(v1 - v2)"
      ],
      "metadata": {
        "colab": {
          "base_uri": "https://localhost:8080/"
        },
        "id": "dmIs4ZUIDN_g",
        "outputId": "1dfd9257-5f0d-4fcf-f1db-b18ed564d156"
      },
      "execution_count": 3,
      "outputs": [
        {
          "output_type": "stream",
          "name": "stdout",
          "text": [
            "am\n",
            "0    17.147368\n",
            "1    24.392308\n",
            "Name: mpg, dtype: float64\n"
          ]
        },
        {
          "output_type": "execute_result",
          "data": {
            "text/plain": [
              "7.244939271255056"
            ]
          },
          "metadata": {},
          "execution_count": 3
        }
      ]
    },
    {
      "cell_type": "code",
      "source": [
        "# aqui é feita de forma aleatória a mistura dos carros em dois grupos para verificar se a diferença de consumo de combustível é significativa ou não\n",
        "# é usado a técnica de bootstrap para criar mais cenários e garantir uma análise mais precisa\n",
        "resultados = []\n",
        "for i in range(100000):\n",
        "  x = []\n",
        "  y = []\n",
        "  z = mtcars[\"mpg\"].tolist()\n",
        "  amostra = random.sample(z, k = 32)\n",
        "  for k in amostra:\n",
        "    if len(x) >= 19:\n",
        "      y.append(k)\n",
        "    if len(x) < 19:\n",
        "      x.append(k)\n",
        "  z = abs(sum(x)/19 - sum(y)/13)\n",
        "  resultados.append(z)"
      ],
      "metadata": {
        "id": "5sUZW35_Fzwn"
      },
      "execution_count": 4,
      "outputs": []
    },
    {
      "cell_type": "code",
      "source": [
        "sns.histplot(resultados)\n",
        "np.quantile(resultados, 0.95)"
      ],
      "metadata": {
        "colab": {
          "base_uri": "https://localhost:8080/",
          "height": 447
        },
        "id": "GJvQP9xjHw9O",
        "outputId": "f455500b-bb25-4fd9-d284-5e3adee7792a"
      },
      "execution_count": 5,
      "outputs": [
        {
          "output_type": "execute_result",
          "data": {
            "text/plain": [
              "4.226315789473681"
            ]
          },
          "metadata": {},
          "execution_count": 5
        },
        {
          "output_type": "display_data",
          "data": {
            "text/plain": [
              "<Figure size 640x480 with 1 Axes>"
            ],
            "image/png": "[encoded data removed]"
          },
          "metadata": {}
        }
      ]
    },
    {
      "cell_type": "markdown",
      "source": [
        "Realizando o teste de hipótese com significância igual 5%, isso é verificando se a diferença entre as médias de gasto de combustível é significativa o suficiente para dizer que o tipo de transmissão tem correlação com o gasto de combustível e a significância igual a 5% por cento indica que iremos acreditar que o gasto de combustível de carros manuais e automáticos são semelhantes se a diferença aferida, 7.24, for igual o menor que o quantil 0.95 e iremos acreditar que o consumo é diferente caso a diferença aferida seja maior que o quantil, nesse exemplo é possível ver que o valor que representa o quantil 0.95, o valor que está acima de 95% dos valores verificados, é inferior ao valor da diferença absoluta entre a quantidade de milha por galão média de cada tipo de transmissão, o valor do quantil está proximo de 4.2 e a diferença foi 7.24, levando-nos a creer que a diferença é grande o suficiente para nos permitir dizer que há relação entre o tipo de transmissão e o quanto ele gasta de gasolina, sendo os carros manuais mais econômicos que os automáticos."
      ],
      "metadata": {
        "id": "X6Kx21uIabTr"
      }
    }
  ]
}